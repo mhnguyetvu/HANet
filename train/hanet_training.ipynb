{
  "cells": [
    {
      "cell_type": "markdown",
      "metadata": {
        "id": "qYzN4WX5fE2K"
      },
      "source": [
        "## Train base"
      ]
    },
    {
      "cell_type": "code",
      "execution_count": 9,
      "metadata": {
        "id": "va9Yrg_n9lw0"
      },
      "outputs": [],
      "source": [
        "import torch\n",
        "import torch.nn as nn\n",
        "from torch.utils.data import Dataset, DataLoader\n",
        "from transformers import BertTokenizer, BertModel\n",
        "from collections import defaultdict\n",
        "\n",
        "\n",
        "# ======= Config =======\n",
        "DEVICE = torch.device(\"cuda\" if torch.cuda.is_available() else \"cpu\")\n",
        "MAX_LEN = 64\n",
        "BATCH_SIZE = 16\n",
        "LR = 2e-5\n",
        "EPOCHS = 3\n",
        "REPLAY_PER_CLASS = 1\n",
        "SIGMA = 0.1  # For prototypical augmentation\n",
        "\n",
        "# ======= Tokenizer =======\n",
        "tokenizer = BertTokenizer.from_pretrained(\"bert-base-uncased\")\n",
        "\n",
        "# ======= Label Setup =======\n",
        "with open(\"/workspaces/HANet/data/event_type.txt\") as f:\n",
        "    all_event_types = [line.strip() for line in f]       ## tất cả event type có sẵn\n",
        "label2id = {etype: i for i, etype in enumerate(all_event_types)} ## gán event type = 1 id\n",
        "id2label = {i: t for t, i in label2id.items()}  ## map ngược lại\n"
      ]
    },
    {
      "cell_type": "code",
      "execution_count": 10,
      "metadata": {
        "id": "_IGs7W01ABC5"
      },
      "outputs": [],
      "source": [
        "# ======= Dataset =======\n",
        "class EventDataset(Dataset):\n",
        "    def __init__(self, jsonl_file, label2id, tokenizer, max_len=64):\n",
        "        self.samples = []\n",
        "        self.tokenizer = tokenizer\n",
        "        self.max_len = max_len\n",
        "        with open(jsonl_file) as f:\n",
        "            for line in f:\n",
        "                item = json.loads(line)\n",
        "                words = item[\"words\"]\n",
        "                for evt in item.get(\"gold_evt_links\", []):\n",
        "                    label = evt[\"event_type\"]\n",
        "                    if label in label2id:  # chỉ lấy những nhãn hợp lệ\n",
        "                        self.samples.append((words, label))\n",
        "        self.label2id = label2id\n",
        "\n",
        "    def __len__(self):\n",
        "        return len(self.samples)\n",
        "\n",
        "    def __getitem__(self, idx):\n",
        "        words, label = self.samples[idx]\n",
        "        sent = \" \".join(words)\n",
        "        inputs = self.tokenizer(sent, padding='max_length', truncation=True,\n",
        "                                max_length=self.max_len, return_tensors='pt')\n",
        "        return {\n",
        "            \"input_ids\": inputs[\"input_ids\"].squeeze(0),\n",
        "            \"attention_mask\": inputs[\"attention_mask\"].squeeze(0),\n",
        "            \"label\": torch.tensor(self.label2id[label], dtype=torch.long)\n",
        "        }\n",
        "\n",
        "\n",
        "# ======= Model =======\n",
        "class HANetSimple(nn.Module):\n",
        "    def __init__(self, num_classes):\n",
        "        super().__init__()\n",
        "        self.bert = BertModel.from_pretrained(\"bert-base-uncased\")\n",
        "        self.classifier = nn.Linear(768, num_classes)\n",
        "\n",
        "    def forward(self, input_ids, attention_mask):\n",
        "        out = self.bert(input_ids=input_ids, attention_mask=attention_mask)\n",
        "        pooled = out.pooler_output\n",
        "        return self.classifier(pooled), pooled\n",
        "\n",
        "# ======= Memory Buffer for Replay =======\n",
        "def build_exemplar_memory(dataset, per_class=1):\n",
        "    memory = defaultdict(list)\n",
        "    for input in dataset:\n",
        "        label = input[\"label\"].item()\n",
        "        if len(memory[label]) < per_class:\n",
        "            memory[label].append(input)\n",
        "    return memory\n",
        "\n",
        "# ======= Prototypical Augmentation =======\n",
        "def augment_feature(rep, num_aug=5, sigma=0.1):\n",
        "    return [rep + torch.randn_like(rep) * sigma for _ in range(num_aug)]"
      ]
    },
    {
      "cell_type": "code",
      "execution_count": 11,
      "metadata": {
        "id": "oTyqwTSgDOcb"
      },
      "outputs": [],
      "source": [
        "################## evaluate\n",
        "import torch\n",
        "import json\n",
        "def evaluate(model, dataloader, device=None):\n",
        "    model.eval()\n",
        "    correct, total = 0, 0\n",
        "    device = device or next(model.parameters()).device\n",
        "\n",
        "    with torch.no_grad():\n",
        "        for batch in dataloader:\n",
        "            input_ids = batch[\"input_ids\"].to(device)\n",
        "            attention_mask = batch[\"attention_mask\"].to(device)\n",
        "            labels = batch[\"label\"].to(device)\n",
        "\n",
        "            logits, _ = model(input_ids, attention_mask)\n",
        "            preds = torch.argmax(logits, dim=1)\n",
        "            correct += (preds == labels).sum().item()\n",
        "            total += labels.size(0)\n",
        "\n",
        "    return correct / total if total > 0 else 0.0"
      ]
    },
    {
      "cell_type": "code",
      "execution_count": 12,
      "metadata": {
        "id": "G4_1rT8V9jHx"
      },
      "outputs": [],
      "source": [
        "def train_base(base_jsonl_path):\n",
        "    print(\"\\n🚀 Training Base Task...\")\n",
        "\n",
        "    dataset = EventDataset(base_jsonl_path, label2id, tokenizer, max_len=MAX_LEN)\n",
        "    dataloader = DataLoader(dataset, batch_size=BATCH_SIZE, shuffle=True)\n",
        "\n",
        "    model = HANetSimple(num_classes=len(label2id)).to(DEVICE)\n",
        "    optimizer = torch.optim.AdamW(model.parameters(), lr=LR)\n",
        "    loss_fn = torch.nn.CrossEntropyLoss()\n",
        "\n",
        "    for epoch in range(EPOCHS):\n",
        "        model.train()\n",
        "        for batch in dataloader:\n",
        "            input_ids = batch[\"input_ids\"].to(DEVICE)\n",
        "            attention_mask = batch[\"attention_mask\"].to(DEVICE)\n",
        "            labels = batch[\"label\"].to(DEVICE)\n",
        "\n",
        "            logits, _ = model(input_ids, attention_mask)\n",
        "            loss = loss_fn(logits, labels)\n",
        "\n",
        "            optimizer.zero_grad()\n",
        "            loss.backward()\n",
        "            optimizer.step()\n",
        "\n",
        "        acc = evaluate(model, dataloader)\n",
        "        print(f\"Epoch {epoch+1} - Accuracy: {acc:.4f}\")\n",
        "\n",
        "    return model"
      ]
    },
    {
      "cell_type": "code",
      "execution_count": null,
      "metadata": {
        "id": "O41xtHtjSM9x"
      },
      "outputs": [
        {
          "ename": "",
          "evalue": "",
          "output_type": "error",
          "traceback": [
            "\u001b[1;31mThe Kernel crashed while executing code in the current cell or a previous cell. \n",
            "\u001b[1;31mPlease review the code in the cell(s) to identify a possible cause of the failure. \n",
            "\u001b[1;31mClick <a href='https://aka.ms/vscodeJupyterKernelCrash'>here</a> for more info. \n",
            "\u001b[1;31mView Jupyter <a href='command:jupyter.viewOutput'>log</a> for further details."
          ]
        }
      ],
      "source": [
        "def train_incremental(model, tokenizer, label2id, task_id, memory):\n",
        "    print(f\"\\n🧩 Incremental Task {task_id}\")\n",
        "\n",
        "    path = f\"/workspaces/HANet/datasets/hanet_minimal/incremental_task_{task_id}.jsonl\"\n",
        "    few_dataset = EventDataset(path, label2id, tokenizer, max_len=MAX_LEN)\n",
        "    few_loader = DataLoader(few_dataset, batch_size=1, shuffle=True)\n",
        "\n",
        "    optimizer = torch.optim.AdamW(model.parameters(), lr=LR)\n",
        "    loss_fn = torch.nn.CrossEntropyLoss()\n",
        "\n",
        "    train_batch = []\n",
        "\n",
        "     # === Prototypical Augmentation ===\n",
        "    for few in few_loader:\n",
        "        input_ids = few[\"input_ids\"].to(DEVICE)\n",
        "        attention_mask = few[\"attention_mask\"].to(DEVICE)\n",
        "        label = few[\"label\"].to(DEVICE)\n",
        "\n",
        "        _, rep = model(input_ids, attention_mask)  # rep: [1, 768]\n",
        "        reps = augment_feature(rep.squeeze(0), num_aug=5, sigma=SIGMA)\n",
        "\n",
        "        for r in reps:\n",
        "            train_batch.append({\n",
        "                \"label\": label.item(),\n",
        "                \"aug_feature\": r.detach()\n",
        "            })\n",
        "\n",
        "    # === Add replay exemplars ===\n",
        "    for cls, samples in memory.items():\n",
        "        for ex in samples:\n",
        "            train_batch.append(ex)\n",
        "\n",
        "    # === Train ===\n",
        "    for epoch in range(EPOCHS):\n",
        "        model.train()\n",
        "        for b in train_batch:\n",
        "            label = b[\"label\"]\n",
        "            if isinstance(label, torch.Tensor):\n",
        "                label = label.item()\n",
        "            label = torch.tensor(label, dtype=torch.long).unsqueeze(0).to(DEVICE)\n",
        "\n",
        "            if \"aug_feature\" in b:\n",
        "                # CASE: augment vector, bypass BERT\n",
        "                feature = b[\"aug_feature\"].unsqueeze(0).float().to(DEVICE)\n",
        "                logits = model.classifier(feature)\n",
        "                rep = feature\n",
        "            else:\n",
        "                # CASE: regular input replay\n",
        "                input_ids = b[\"input_ids\"].unsqueeze(0).to(DEVICE)\n",
        "                attention_mask = b[\"attention_mask\"].unsqueeze(0).to(DEVICE)\n",
        "                logits, rep = model(input_ids, attention_mask)\n",
        "\n",
        "            loss = loss_fn(logits, label)\n",
        "            optimizer.zero_grad()\n",
        "            loss.backward()\n",
        "            optimizer.step()\n",
        "\n",
        "    # === Evaluate ===\n",
        "    acc = evaluate(model, few_loader)\n",
        "    print(f\"🎯 Task {task_id} Accuracy: {acc:.4f}\")\n",
        "\n",
        "    return model"
      ]
    },
    {
      "cell_type": "code",
      "execution_count": null,
      "metadata": {
        "id": "dLSinbobTRmd"
      },
      "outputs": [
        {
          "name": "stdout",
          "output_type": "stream",
          "text": [
            "\n",
            "🚀 Training Base Task...\n"
          ]
        }
      ],
      "source": [
        "# Huấn luyện base task\n",
        "model = train_base(\"/workspaces/HANet/data/base_task_random_1000.jsonl\")\n",
        "\n",
        "# Tạo memory buffer\n",
        "base_dataset = EventDataset(\"/workspaces/HANet/data/base_task_random_1000.jsonl\", label2id, tokenizer, MAX_LEN)\n",
        "memory = build_exemplar_memory(base_dataset, per_class=1)\n",
        "\n",
        "# Huấn luyện incremental task với augmentation + memory\n",
        "model = train_incremental(model, tokenizer, label2id, task_id=1, memory=memory)\n"
      ]
    },
    {
      "cell_type": "code",
      "execution_count": null,
      "metadata": {
        "id": "kXeT9tedjGj6"
      },
      "outputs": [],
      "source": [
        "with open('/workspaces/HANet/data/base_task_random_1000.jsonl', 'r', encoding='utf-8') as f:\n",
        "    count = sum(1 for _ in f)\n",
        "print(f\"Tổng số bản ghi: {count}\")"
      ]
    },
    {
      "cell_type": "code",
      "execution_count": null,
      "metadata": {},
      "outputs": [],
      "source": []
    },
    {
      "cell_type": "code",
      "execution_count": null,
      "metadata": {},
      "outputs": [],
      "source": []
    }
  ],
  "metadata": {
    "accelerator": "GPU",
    "colab": {
      "gpuType": "T4",
      "provenance": []
    },
    "kernelspec": {
      "display_name": ".venv",
      "language": "python",
      "name": "python3"
    },
    "language_info": {
      "codemirror_mode": {
        "name": "ipython",
        "version": 3
      },
      "file_extension": ".py",
      "mimetype": "text/x-python",
      "name": "python",
      "nbconvert_exporter": "python",
      "pygments_lexer": "ipython3",
      "version": "3.12.1"
    }
  },
  "nbformat": 4,
  "nbformat_minor": 0
}
